{
    "cells": [
        {
            "cell_type": "markdown",
            "metadata": {},
            "source": [
                "# Prediction Competition\n",
                "\n",
                "The goal of machine learning is to build models with high predictive accuracy. Thus, it is not surprising that there exist machine learning competitions, where participants compete to build the model with the lowest possible prediction error.\n",
                "\n",
                "[Kaggle](http://www.kaggle.com/) is a website that hosts machine learning competitions. In this lab, you will participate in a Kaggle competition with other students in this class! The top 5 people will earn up to 5 bonus points on this lab. To join the competition, visit [this link](https://www.kaggle.com/c/beer2019). You will need to create an account on Kaggle first."
            ]
        },
        {
            "cell_type": "markdown",
            "metadata": {},
            "source": [
                "# Question\n",
                "\n",
                "Train many different models to predict IBU. Try different subsets of variables. Try different machine learning algorithms (you are not restricted to just $k$-nearest neighbors). At least one of your models must contain variables derived from the `description` of each beer. Use cross-validation to systematically select good models and submit your predictions to Kaggle. You are allowed 2 submissions per day, so submit early and often!\n",
                "\n",
                "Note that to submit your predictions to Kaggle, you will need to export your predictions to a CSV file (using `.to_csv()`) in the format expected by Kaggle (see `beer_test_sample_submission.csv` for an example)."
            ]
        },
        {
            "cell_type": "code",
            "execution_count": null,
            "metadata": {},
            "outputs": [],
            "source": [
                "# YOUR CODE HERE (although you will probably want to add more cells)"
            ]
        },
        {
            "cell_type": "markdown",
            "metadata": {},
            "source": [
                "**YOUR EXPLANATION HERE (although you will probably want to add more cells)**"
            ]
        },
        {
            "cell_type": "markdown",
            "metadata": {},
            "source": [
                "# Submission Instructions\n",
                "\n",
                "Once you are finished, follow these steps:\n",
                "\n",
                "1. Restart the kernel and re-run this notebook from beginning to end by going to `Kernel > Restart Kernel and Run All Cells`.\n",
                "2. If this process stops halfway through, that means there was an error. Correct the error and repeat Step 1 until the notebook runs from beginning to end.\n",
                "3. Double check that there is a number next to each code cell and that these numbers are in order.\n",
                "\n",
                "Then, submit your lab as follows:\n",
                "\n",
                "1. Go to `File > Export Notebook As > PDF`.\n",
                "2. Double check that the entire notebook, from beginning to end, is in this PDF file. (If the notebook is cut off, try first exporting the notebook to HTML and printing to PDF.)\n",
                "3. Upload the PDF [to PolyLearn](https://polylearn.calpoly.edu/AY_2018-2019/mod/assign/view.php?id=325688)."
            ]
        }
    ],
    "metadata": {
        "jupytext": {
            "formats": "ipynb,py"
        },
        "kernelspec": {
            "display_name": "Python 3",
            "language": "python",
            "name": "python3"
        },
        "language_info": {
            "codemirror_mode": {
                "name": "ipython",
                "version": 3
            },
            "file_extension": ".py",
            "mimetype": "text/x-python",
            "name": "python",
            "nbconvert_exporter": "python",
            "pygments_lexer": "ipython3",
            "version": "3.7.1"
        }
    },
    "nbformat": 4,
    "nbformat_minor": 2
}