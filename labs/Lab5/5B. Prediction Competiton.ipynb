{
 "cells": [
  {
   "cell_type": "markdown",
   "metadata": {},
   "source": [
    "# Kaggle Competition\n",
    "\n",
    "[Kaggle](http://www.kaggle.com/) is a website that hosts machine learning competitions. In this lab, you will participate in a Kaggle competition with other students in this class! The top 5 people will earn up to 5 bonus points on this lab.\n",
    "\n",
    "To join the competition, visit [this link](https://www.kaggle.com/t/b379eb3e29b84581ba14c542f098f4c8). You will need to create an account on Kaggle.\n",
    "\n",
    "The goal of this competition is to predict the bitterness of a beer (in International Bittering Units, or IBU) given features about the beer. The training and test data can be found on Kaggle and in the `/data301/data/beer/` directory. A description of the variables can be found [here](https://www.kaggle.com/c/beer2018/data)."
   ]
  },
  {
   "cell_type": "code",
   "execution_count": null,
   "metadata": {},
   "outputs": [],
   "source": []
  }
 ],
 "metadata": {
  "kernelspec": {
   "display_name": "Python 3",
   "language": "python",
   "name": "python3"
  },
  "language_info": {
   "codemirror_mode": {
    "name": "ipython",
    "version": 3
   },
   "file_extension": ".py",
   "mimetype": "text/x-python",
   "name": "python",
   "nbconvert_exporter": "python",
   "pygments_lexer": "ipython3",
   "version": "3.6.8"
  }
 },
 "nbformat": 4,
 "nbformat_minor": 2
}
