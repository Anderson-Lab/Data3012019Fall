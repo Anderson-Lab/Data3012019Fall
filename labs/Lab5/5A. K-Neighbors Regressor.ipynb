{
 "cells": [
  {
   "cell_type": "markdown",
   "metadata": {},
   "source": [
    "# K-Neighbors Regressor\n",
    "\n",
    "Your goal is to train a model to predict the bitterness of a beer (in International Bittering Units, or IBU), given features about the beer. You can acquire the data in any one of three places:\n",
    "\n",
    "- on [Kaggle](https://www.kaggle.com/c/beer2019/data) \n",
    "- on [Github](https://github.com/dlsun/data-science-book/tree/master/data/beer)\n",
    "- in the `/data301/data/beer/` directory\n",
    "\n",
    "A description of the variables is available [here](https://www.kaggle.com/c/beer2019/data)."
   ]
  },
  {
   "cell_type": "markdown",
   "metadata": {},
   "source": [
    "# Question 1\n",
    "\n",
    "Train $k$-nearest neighbors models (for different values of $k$) that predict IBU (`ibu`) using the alcohol by volume (`abv`), availability (`available`), and gravity (`originalGravity`). Plot the training error as a function of $k$. What do you notice about the training error?"
   ]
  },
  {
   "cell_type": "code",
   "execution_count": 23,
   "metadata": {
    "collapsed": true
   },
   "outputs": [],
   "source": [
    "# TYPE YOUR CODE HERE."
   ]
  },
  {
   "cell_type": "markdown",
   "metadata": {},
   "source": [
    "**SUMMARIZE YOUR OBSERVATIONS HERE.**"
   ]
  },
  {
   "cell_type": "markdown",
   "metadata": {},
   "source": [
    "## Question 2\n",
    "\n",
    "Use cross-validation to determine the optimal $k$-nearest neighbors model for predicting IBU (`ibu`) using the alcohol by volume (`abv`), availability (`available`), and gravity (`originalGravity`). Plot the cross-validation error as a function of $k$. What is the optimal value of $k$?"
   ]
  },
  {
   "cell_type": "code",
   "execution_count": null,
   "metadata": {},
   "outputs": [],
   "source": [
    "# TYPE YOUR CODE HERE."
   ]
  },
  {
   "cell_type": "markdown",
   "metadata": {},
   "source": [
    "## Question 3\n",
    "\n",
    "Now that you have determined the optimal value of $k$, fit that $k$-nearest neighbors model to all of the training observations, using the same three features (`abv`, `available`, and `originalGravity`). Then, use this model to predict the IBU on the test set.\n",
    "\n",
    "Export your predictions to a CSV file (using `.to_csv()`) in the format expected by Kaggle (see `/data301/data/beer/beer_test_sample_submission.csv`). Then, upload your predictions to [Kaggle](https://inclass.kaggle.com/c/beer2018)."
   ]
  },
  {
   "cell_type": "code",
   "execution_count": null,
   "metadata": {},
   "outputs": [],
   "source": [
    "# TYPE YOUR CODE HERE."
   ]
  },
  {
   "cell_type": "markdown",
   "metadata": {},
   "source": [
    "## Question 4\n",
    "\n",
    "Now try at least 5 different models. These models can be $k$-nearest neighbors with different features or different machine learning models (e.g., linear regression, decision trees, neural networks) altogether. Use cross-validation to determine which model is best. Summarize the results of your analysis in words.\n",
    "\n",
    "Upload the predictions from the best-performing model to Kaggle. You'll be able to see immediately how well you did on the Leaderboard. Your goal is to get the smallest test RMSE. You can upload as often as twice a day until the contest ends on Monday, May 14."
   ]
  },
  {
   "cell_type": "code",
   "execution_count": null,
   "metadata": {
    "collapsed": true
   },
   "outputs": [],
   "source": [
    "# TRAIN AND EVALUATE YOUR MODELS HERE.\n",
    "# (FEEL FREE TO ADD MORE CELLS.)"
   ]
  },
  {
   "cell_type": "markdown",
   "metadata": {},
   "source": [
    "**SUMMARIZE WHAT YOU DISCOVERED HERE.**"
   ]
  },
  {
   "cell_type": "code",
   "execution_count": null,
   "metadata": {},
   "outputs": [],
   "source": [
    "# OUTPUT THE BEST MODEL TO A CSV FILE AND UPLOAD TO KAGGLE."
   ]
  },
  {
   "cell_type": "markdown",
   "metadata": {},
   "source": [
    "## Preparing for Submission\n",
    "\n",
    "Once you are finished, follow these steps:\n",
    "\n",
    "1. Restart the kernel and re-run this notebook from beginning to end by going to `Kernel > Restart Kernel and Run All Cells`.\n",
    "2. If this process stops halfway through, that means there was an error. Correct the error and repeat Step 1 until the notebook runs from beginning to end.\n",
    "3. Double check that there is a number next to each code cell and that these numbers are in order.\n",
    "4. Go to `File > Save Notebook`.\n",
    "\n",
    "Then, read the `Submission Instructions.ipynb` for instructions on how to submit the lab."
   ]
  }
 ],
 "metadata": {
  "kernelspec": {
   "display_name": "Python 3",
   "language": "python",
   "name": "python3"
  },
  "language_info": {
   "codemirror_mode": {
    "name": "ipython",
    "version": 3
   },
   "file_extension": ".py",
   "mimetype": "text/x-python",
   "name": "python",
   "nbconvert_exporter": "python",
   "pygments_lexer": "ipython3",
   "version": "3.6.8"
  }
 },
 "nbformat": 4,
 "nbformat_minor": 2
}
